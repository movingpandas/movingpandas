{
 "cells": [
  {
   "attachments": {},
   "cell_type": "markdown",
   "metadata": {},
   "source": [
    "# Stop Detection\n",
    "\n",
    "<img align=\"right\" src=\"https://movingpandas.github.io/movingpandas/assets/img/movingpandas.png\">\n",
    "\n",
    "[![Binder](https://mybinder.org/badge_logo.svg)](https://mybinder.org/v2/gh/movingpandas/movingpandas/main?filepath=tutorials/4-stop-detection.ipynb)\n",
    "\n",
    "**<p style=\"color:#e31883\">This notebook demonstrates the current development version of MovingPandas.</p>**\n",
    "\n",
    "For tutorials using the latest release visit https://github.com/movingpandas/movingpandas-examples.\n"
   ]
  },
  {
   "attachments": {},
   "cell_type": "markdown",
   "metadata": {},
   "source": [
    "## Setup"
   ]
  },
  {
   "cell_type": "code",
   "execution_count": null,
   "metadata": {},
   "outputs": [],
   "source": [
    "import pandas as pd\n",
    "import geopandas as gpd\n",
    "from datetime import datetime, timedelta\n",
    "\n",
    "import sys\n",
    "\n",
    "sys.path.append(\"..\")\n",
    "import movingpandas as mpd\n",
    "\n",
    "mpd.show_versions()\n",
    "\n",
    "import warnings\n",
    "\n",
    "warnings.simplefilter(\"ignore\")"
   ]
  },
  {
   "attachments": {},
   "cell_type": "markdown",
   "metadata": {},
   "source": [
    "## Loading Geolife Sample"
   ]
  },
  {
   "cell_type": "code",
   "execution_count": null,
   "metadata": {},
   "outputs": [],
   "source": [
    "%%time\n",
    "gdf = gpd.read_file(\"data/demodata_geolife.gpkg\")\n",
    "print(\"Finished reading {} rows\".format(len(gdf)))"
   ]
  },
  {
   "cell_type": "code",
   "execution_count": null,
   "metadata": {},
   "outputs": [],
   "source": [
    "tc = mpd.TrajectoryCollection(gdf, \"trajectory_id\", t=\"t\")\n",
    "tc = mpd.MinTimeDeltaGeneralizer(tc).generalize(timedelta(seconds=10))\n",
    "tc"
   ]
  },
  {
   "attachments": {},
   "cell_type": "markdown",
   "metadata": {},
   "source": [
    "## Stop Detection with a SingleTrajectory\n",
    "\n",
    "There are no definitive answers when it comes to detecting / extracting stops from movement trajectories. Due to tracking inaccuracies, movement speed rarely goes to true zero. GPS tracks, for example, tend to keep moving around the object's stop location. \n",
    "\n",
    "Suitable stop definitions are also highly application dependent. For example, an application may be interested in analyzing trip purposes. To do so, analysts would be interested in stops that are longer than, for example, 5 minutes and may try to infer the purpose of the stop from the stop location and time. Shorter stops, such as delays at traffic lights, however would not be relevant for this appication. \n",
    "\n",
    "In the MovingPandas **TrajectoryStopDetector** implementation, a stop is detected if the movement stays within an area of specified size for at least the specified duration."
   ]
  },
  {
   "cell_type": "code",
   "execution_count": null,
   "metadata": {},
   "outputs": [],
   "source": [
    "my_traj = tc.trajectories[0]\n",
    "my_traj"
   ]
  },
  {
   "cell_type": "code",
   "execution_count": null,
   "metadata": {},
   "outputs": [],
   "source": [
    "detector = mpd.TrajectoryStopDetector(my_traj)"
   ]
  },
  {
   "cell_type": "code",
   "execution_count": null,
   "metadata": {},
   "outputs": [],
   "source": [
    "hvplot_defaults = {\n",
    "    \"tiles\": \"CartoLight\",\n",
    "    \"frame_height\": 350,\n",
    "    \"frame_width\": 350,\n",
    "    \"line_width\": 7.0,\n",
    "}\n",
    "traj_plot = my_traj.hvplot(\n",
    "    title=\"Trajectory {}\".format(my_traj.id), color=\"slategray\", **hvplot_defaults\n",
    ")\n",
    "traj_plot"
   ]
  },
  {
   "attachments": {},
   "cell_type": "markdown",
   "metadata": {},
   "source": [
    "### Stop duration"
   ]
  },
  {
   "attachments": {},
   "cell_type": "markdown",
   "metadata": {},
   "source": [
    "A sensible detectable stop duration should be a multiple of the trajectory sampling interval"
   ]
  },
  {
   "cell_type": "code",
   "execution_count": null,
   "metadata": {},
   "outputs": [],
   "source": [
    "for traj in tc:\n",
    "    print(traj.get_sampling_interval())"
   ]
  },
  {
   "cell_type": "code",
   "execution_count": null,
   "metadata": {},
   "outputs": [],
   "source": [
    "%%time\n",
    "stop_durations = detector.get_stop_time_ranges(\n",
    "    min_duration=timedelta(seconds=60), max_diameter=100\n",
    ")"
   ]
  },
  {
   "cell_type": "code",
   "execution_count": null,
   "metadata": {},
   "outputs": [],
   "source": [
    "for x in stop_durations:\n",
    "    print(x)"
   ]
  },
  {
   "attachments": {},
   "cell_type": "markdown",
   "metadata": {},
   "source": [
    "### Stop points"
   ]
  },
  {
   "cell_type": "code",
   "execution_count": null,
   "metadata": {},
   "outputs": [],
   "source": [
    "%%time\n",
    "stop_points = detector.get_stop_points(\n",
    "    min_duration=timedelta(seconds=60), max_diameter=100\n",
    ")"
   ]
  },
  {
   "cell_type": "code",
   "execution_count": null,
   "metadata": {},
   "outputs": [],
   "source": [
    "stop_points"
   ]
  },
  {
   "cell_type": "code",
   "execution_count": null,
   "metadata": {},
   "outputs": [],
   "source": [
    "stop_point_plot = traj_plot * stop_points.hvplot(\n",
    "    geo=True, size=\"duration_s\", color=\"deeppink\"\n",
    ")\n",
    "stop_point_plot"
   ]
  },
  {
   "attachments": {},
   "cell_type": "markdown",
   "metadata": {},
   "source": [
    "### Stop segments"
   ]
  },
  {
   "cell_type": "code",
   "execution_count": null,
   "metadata": {},
   "outputs": [],
   "source": [
    "%%time\n",
    "stop_segments = detector.get_stop_segments(\n",
    "    min_duration=timedelta(seconds=60), max_diameter=100\n",
    ")"
   ]
  },
  {
   "cell_type": "code",
   "execution_count": null,
   "metadata": {},
   "outputs": [],
   "source": [
    "stop_segments"
   ]
  },
  {
   "cell_type": "code",
   "execution_count": null,
   "metadata": {},
   "outputs": [],
   "source": [
    "stop_segment_plot = stop_point_plot * stop_segments.hvplot(\n",
    "    line_width=7.0, tiles=None, color=\"orange\"\n",
    ")\n",
    "stop_segment_plot"
   ]
  },
  {
   "attachments": {},
   "cell_type": "markdown",
   "metadata": {},
   "source": [
    "### Split at stops"
   ]
  },
  {
   "cell_type": "code",
   "execution_count": null,
   "metadata": {},
   "outputs": [],
   "source": [
    "%%time\n",
    "split = mpd.StopSplitter(my_traj).split(\n",
    "    min_duration=timedelta(seconds=60), max_diameter=100\n",
    ")"
   ]
  },
  {
   "cell_type": "code",
   "execution_count": null,
   "metadata": {},
   "outputs": [],
   "source": [
    "split"
   ]
  },
  {
   "cell_type": "code",
   "execution_count": null,
   "metadata": {},
   "outputs": [],
   "source": [
    "for segment in split:\n",
    "    print(segment)"
   ]
  },
  {
   "cell_type": "code",
   "execution_count": null,
   "metadata": {},
   "outputs": [],
   "source": [
    "stop_segment_plot + split.hvplot(\n",
    "    title=\"Trajectory {} split at stops\".format(my_traj.id), **hvplot_defaults\n",
    ")"
   ]
  },
  {
   "attachments": {},
   "cell_type": "markdown",
   "metadata": {},
   "source": [
    "## Stop Detection for TrajectoryCollections\n",
    "\n",
    "The process is the same as for individual trajectories."
   ]
  },
  {
   "cell_type": "code",
   "execution_count": null,
   "metadata": {},
   "outputs": [],
   "source": [
    "%%time\n",
    "detector = mpd.TrajectoryStopDetector(tc)\n",
    "stops = detector.get_stop_segments(\n",
    "    min_duration=timedelta(seconds=120), max_diameter=100\n",
    ")\n",
    "len(stops)"
   ]
  },
  {
   "cell_type": "code",
   "execution_count": null,
   "metadata": {},
   "outputs": [],
   "source": [
    "traj_map = tc.hvplot(color=\"slategray\", **hvplot_defaults)"
   ]
  },
  {
   "cell_type": "code",
   "execution_count": null,
   "metadata": {},
   "outputs": [],
   "source": [
    "(\n",
    "    traj_map\n",
    "    * stops.hvplot(line_width=7.0, tiles=None, color=\"deeppink\")\n",
    "    * stops.get_start_locations().hvplot(geo=True, color=\"deeppink\")\n",
    ")"
   ]
  },
  {
   "cell_type": "code",
   "execution_count": null,
   "metadata": {},
   "outputs": [],
   "source": [
    "stop_points = detector.get_stop_points(\n",
    "    min_duration=timedelta(seconds=120), max_diameter=100\n",
    ")"
   ]
  },
  {
   "cell_type": "markdown",
   "metadata": {},
   "source": [
    "### Testing the impact of column data types"
   ]
  },
  {
   "cell_type": "code",
   "execution_count": null,
   "metadata": {},
   "outputs": [],
   "source": [
    "map1 = traj_map * stop_points.hvplot(\n",
    "    geo=True,\n",
    "    size=200,\n",
    "    color=\"traj_id\",\n",
    "    title=f\"Traj_id type {type(stop_points.iloc[0].traj_id)}\",\n",
    ")\n",
    "\n",
    "stop_points.traj_id = stop_points.traj_id.astype(\"str\")\n",
    "map2 = traj_map * stop_points.hvplot(\n",
    "    geo=True,\n",
    "    size=200,\n",
    "    color=\"traj_id\",\n",
    "    title=f\"Traj_id type {type(stop_points.iloc[0].traj_id)}\",\n",
    ")\n",
    "\n",
    "map1 + map2"
   ]
  },
  {
   "cell_type": "markdown",
   "metadata": {},
   "source": [
    "## Comparison of Detected Stop Events"
   ]
  },
  {
   "cell_type": "code",
   "execution_count": null,
   "metadata": {},
   "outputs": [],
   "source": [
    "detector = mpd.TrajectoryStopDetector(tc)\n",
    "stops1 = detector.get_stop_segments(min_duration=timedelta(seconds=120), max_diameter=100)\n",
    "stops2 = detector.get_stop_segments(min_duration=timedelta(seconds=60), max_diameter=100)\n",
    "print(stops1)\n",
    "print(stops2)"
   ]
  },
  {
   "cell_type": "markdown",
   "metadata": {},
   "source": [
    "Let's assume stops1 is the ground truth, and stops2 is the result we want to evaluate:"
   ]
  },
  {
   "cell_type": "code",
   "execution_count": null,
   "metadata": {},
   "outputs": [],
   "source": [
    "groundtruth = stops1\n",
    "prediction = stops2\n",
    "\n",
    "#gt.hvplot(color='blue') * ev.hvplot(color='red')"
   ]
  },
  {
   "cell_type": "code",
   "execution_count": null,
   "metadata": {},
   "outputs": [],
   "source": [
    "def events_overlap(event1, event2):\n",
    "    start1, end1 = event1.get_start_time(), event1.get_end_time()\n",
    "    start2, end2 = event2.get_start_time(), event2.get_end_time()\n",
    "    i1 = pd.Interval(start1.timestamp(),end1.timestamp())\n",
    "    i2 = pd.Interval(start2.timestamp(),end2.timestamp())\n",
    "    return i1.overlaps(i2)\n",
    "\n",
    "overlapping_gt_events = []\n",
    "non_overlapping_gt_events = []\n",
    "false_positives = []\n",
    "\n",
    "# First pass: GT -> Pred\n",
    "for gt_event in groundtruth.trajectories:\n",
    "    gt_id = gt_event.parent.id\n",
    "    gt_start = gt_event.get_start_time()\n",
    "    gt_end = gt_event.get_end_time()\n",
    "\n",
    "    is_overlapping = False\n",
    "\n",
    "    for pred_event in prediction.trajectories:\n",
    "        if pred_event.parent.id != gt_id:\n",
    "            continue\n",
    "\n",
    "        pred_start = pred_event.get_start_time()\n",
    "        pred_end = pred_event.get_end_time()\n",
    "\n",
    "        if events_overlap(gt_event, pred_event):\n",
    "            is_overlapping = True\n",
    "            break\n",
    "\n",
    "    if is_overlapping:\n",
    "        overlapping_gt_events.append((gt_id, gt_start, gt_end, pred_start, pred_end))\n",
    "    else: \n",
    "        non_overlapping_gt_events.append((gt_id, gt_start, gt_end))\n",
    "\n",
    "# Second pass: Pred -> GT (to find false positives)\n",
    "for pred_event in prediction.trajectories:\n",
    "    pred_id = pred_event.parent.id\n",
    "\n",
    "    is_overlapping = False\n",
    "    for gt_event in groundtruth.trajectories:\n",
    "        if gt_event.parent.id != pred_id:\n",
    "            continue\n",
    "\n",
    "        if events_overlap(pred_event, gt_event):\n",
    "            is_overlapping = True\n",
    "            break\n",
    "\n",
    "    if not is_overlapping:    \n",
    "        pred_start = pred_event.get_start_time()\n",
    "        pred_end = pred_event.get_end_time()\n",
    "        false_positives.append((pred_id, pred_start, pred_end))\n",
    "\n",
    "# Output results\n",
    "print(\"Overlapping Events:\")\n",
    "for entry in overlapping_gt_events:\n",
    "    print(f\"Mover {entry[0]}: GT ({entry[1]} to {entry[2]}) overlaps with Pred ({entry[3]} to {entry[4]})\")\n",
    "\n",
    "print(\"\\nNon-overlapping GT Events (False Negatives):\")\n",
    "for entry in non_overlapping_gt_events:\n",
    "    print(f\"Mover {entry[0]}: GT ({entry[1]} to {entry[2]}) has no overlapping prediction\")\n",
    "\n",
    "print(\"\\nFalse Positives (Predicted Events with No Matching GT):\")\n",
    "for entry in false_positives:\n",
    "    print(f\"Mover {entry[0]}: Pred ({entry[1]} to {entry[2]}) has no overlapping ground truth\")\n",
    "\n"
   ]
  },
  {
   "cell_type": "code",
   "execution_count": null,
   "metadata": {},
   "outputs": [],
   "source": [
    "print(f\"True positives: {len(groundtruth.trajectories)-len(non_overlapping_gt_events)} out of {len(groundtruth.trajectories)} ground truth events detected.\")\n",
    "print(f\"False negatives: {len(non_overlapping_gt_events)} out of {len(groundtruth.trajectories)} ground truth events were not detected.\")\n",
    "print(f\"False positives: {len(false_positives)} incorrect events detected. \")"
   ]
  },
  {
   "attachments": {},
   "cell_type": "markdown",
   "metadata": {},
   "source": [
    "## Continue exploring MovingPandas\n",
    "\n",
    "1. [Getting started](1-getting-started.ipynb)\n",
    "1. [Handling trajectory data files (reading & writing)](2-reading-data-from-files.ipynb)\n",
    "1. [TrajectoryCollection aggregation (flow maps)](3-generalization-and-aggregation.ipynb)\n",
    "1. [Stop detection](4-stop-detection.ipynb)\n",
    "1. [Working with local coordinates](5-local-coordinates.ipynb)\n",
    "1. [Computing trajectory metrics](6-trajectory-metrics.ipynb)\n",
    "1. [Multithreading](7-multithreading.ipynb)\n",
    "1. [OGC Moving Features](8-ogc-moving-features.ipynb)"
   ]
  },
  {
   "cell_type": "markdown",
   "metadata": {},
   "source": []
  }
 ],
 "metadata": {
  "kernelspec": {
   "display_name": "movingpandas",
   "language": "python",
   "name": "python3"
  },
  "language_info": {
   "codemirror_mode": {
    "name": "ipython",
    "version": 3
   },
   "file_extension": ".py",
   "mimetype": "text/x-python",
   "name": "python",
   "nbconvert_exporter": "python",
   "pygments_lexer": "ipython3",
   "version": "3.10.16"
  }
 },
 "nbformat": 4,
 "nbformat_minor": 4
}
