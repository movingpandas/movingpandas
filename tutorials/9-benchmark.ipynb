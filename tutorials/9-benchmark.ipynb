{
 "cells": [
  {
   "attachments": {},
   "cell_type": "markdown",
   "metadata": {},
   "source": [
    "# Benchmarking\n",
    "\n",
    "<img align=\"right\" src=\"https://movingpandas.github.io/movingpandas/assets/img/movingpandas.png\">\n",
    "\n",
    "[![Binder](https://mybinder.org/badge_logo.svg)](https://mybinder.org/v2/gh/movingpandas/movingpandas/main?filepath=tutorials/0-debug.ipynb)\n",
    "\n",
    "Minimal working examples of bugs\n",
    "\n",
    "**<p style=\"color:#e31883\">This notebook demonstrates the current development version of MovingPandas.</p>**\n",
    "\n",
    "For tutorials using the latest release visit https://github.com/movingpandas/movingpandas-examples.\n"
   ]
  },
  {
   "cell_type": "code",
   "execution_count": null,
   "metadata": {},
   "outputs": [],
   "source": [
    "import urllib\n",
    "import os\n",
    "import pandas as pd\n",
    "import geopandas as gpd\n",
    "from geopandas import GeoDataFrame, read_file\n",
    "from shapely.geometry import Point, LineString, Polygon\n",
    "from datetime import datetime, timedelta\n",
    "from matplotlib import pyplot as plt\n",
    "\n",
    "import sys\n",
    "\n",
    "sys.path.append(\"..\")\n",
    "import movingpandas as mpd\n",
    "\n",
    "mpd.show_versions()"
   ]
  },
  {
   "cell_type": "code",
   "execution_count": null,
   "metadata": {},
   "outputs": [],
   "source": [
    "import time \n",
    "import random\n",
    "\n",
    "def make_test_df(n):\n",
    "    start = datetime(2023, 1, 1)\n",
    "    data = {\n",
    "        \"t\": [start + timedelta(seconds=i) for i in range(n)],\n",
    "        \"x\": [i * 0.0001 for i in range(n)],\n",
    "        \"y\": [i * 0.0001 for i in range(n)],\n",
    "        \"id\": [random.randint(0, 3) for _ in range(n)],\n",
    "        \"value\": ['a' for _ in range(n)],\n",
    "    }\n",
    "    return pd.DataFrame(data)\n"
   ]
  },
  {
   "cell_type": "markdown",
   "metadata": {},
   "source": [
    "## Basic Trajectory Creation"
   ]
  },
  {
   "cell_type": "code",
   "execution_count": null,
   "metadata": {},
   "outputs": [],
   "source": [
    "\n",
    "def benchmark():\n",
    "    sizes = [100_000, 1_000_000, 5_000_000, 10_000_000]\n",
    "\n",
    "    for n in sizes:\n",
    "        df = make_test_df(n)\n",
    "        print(f\"\\n--- {n/1_000_000} million points ---\")\n",
    "\n",
    "        start = time.time()\n",
    "        tc = mpd.TrajectoryCollection(df, traj_id_col=\"id\", t=\"t\", x=\"x\", y=\"y\")\n",
    "        runtime = time.time() - start\n",
    "        print(tc)\n",
    "        print(f\"Trajectory init:  {runtime:.6f}s\")\n",
    "\n",
    "benchmark()\n",
    "\n"
   ]
  },
  {
   "cell_type": "markdown",
   "metadata": {},
   "source": [
    "### Value Change Splitter"
   ]
  },
  {
   "cell_type": "code",
   "execution_count": null,
   "metadata": {},
   "outputs": [],
   "source": [
    "\n",
    "def benchmark():\n",
    "    sizes = [10_000, 100_000, 500_000]\n",
    "\n",
    "    for n in sizes:\n",
    "        df = make_test_df(n)\n",
    "        print(f\"\\n--- {n/1_000_000} million points ---\")\n",
    "\n",
    "        start = time.time()        \n",
    "        tc = mpd.TrajectoryCollection(df, traj_id_col=\"id\", t=\"t\", x=\"x\", y=\"y\")\n",
    "        tc = mpd.ValueChangeSplitter(tc).split(col_name='value')\n",
    "        runtime = time.time() - start\n",
    "        print(tc)\n",
    "        print(f\"Trajectory init + ValueChangeSplitter:  {runtime:.6f}s\")\n",
    "\n",
    "benchmark()\n",
    "\n"
   ]
  },
  {
   "cell_type": "code",
   "execution_count": null,
   "metadata": {},
   "outputs": [],
   "source": [
    "def benchmark():\n",
    "    sizes = [10_000, 100_000, 500_000]\n",
    "\n",
    "    for n in sizes:\n",
    "        df = make_test_df(n)\n",
    "        print(f\"\\n--- {n/1_000_000} million points ---\")\n",
    "\n",
    "        start = time.time()\n",
    "        tc = mpd.TrajectoryCollection(df, traj_id_col=\"id\", t=\"t\", x=\"x\", y=\"y\")\n",
    "        tc = mpd.ValueChangeSplitter(tc).split(col_name='value')\n",
    "        tc.to_point_gdf()\n",
    "        runtime = time.time() - start\n",
    "        print(tc)\n",
    "        print(f\"Trajectory init + ValueChangeSplitter:  {runtime:.6f}s\")\n",
    "\n",
    "benchmark()"
   ]
  },
  {
   "cell_type": "code",
   "execution_count": null,
   "metadata": {},
   "outputs": [],
   "source": []
  }
 ],
 "metadata": {
  "kernelspec": {
   "display_name": "movingpandas-dev",
   "language": "python",
   "name": "python3"
  },
  "language_info": {
   "codemirror_mode": {
    "name": "ipython",
    "version": 3
   },
   "file_extension": ".py",
   "mimetype": "text/x-python",
   "name": "python",
   "nbconvert_exporter": "python",
   "pygments_lexer": "ipython3",
   "version": "3.10.15"
  }
 },
 "nbformat": 4,
 "nbformat_minor": 4
}
