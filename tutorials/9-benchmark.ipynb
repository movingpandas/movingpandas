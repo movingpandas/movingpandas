{
 "cells": [
  {
   "attachments": {},
   "cell_type": "markdown",
   "metadata": {},
   "source": [
    "# Benchmarking\n",
    "\n",
    "<img align=\"right\" src=\"https://movingpandas.github.io/movingpandas/assets/img/movingpandas.png\">\n",
    "\n"
   ]
  },
  {
   "cell_type": "code",
   "execution_count": null,
   "metadata": {},
   "outputs": [],
   "source": [
    "import urllib\n",
    "import os\n",
    "import pandas as pd\n",
    "import geopandas as gpd\n",
    "from geopandas import GeoDataFrame, read_file\n",
    "from shapely.geometry import Point, LineString, Polygon\n",
    "from datetime import datetime, timedelta\n",
    "from matplotlib import pyplot as plt\n",
    "\n",
    "import sys\n",
    "\n",
    "sys.path.append(\"..\")\n",
    "import movingpandas as mpd\n",
    "\n",
    "mpd.show_versions()"
   ]
  },
  {
   "cell_type": "code",
   "execution_count": null,
   "metadata": {},
   "outputs": [],
   "source": [
    "os.cpu_count()"
   ]
  },
  {
   "cell_type": "code",
   "execution_count": null,
   "metadata": {},
   "outputs": [],
   "source": [
    "import time \n",
    "import random\n",
    "\n",
    "def make_test_df(n):\n",
    "    start = datetime(2023, 1, 1)\n",
    "    data = {\n",
    "        \"t\": [start + timedelta(seconds=i) for i in range(n)],\n",
    "        \"x\": [i * 0.0001 for i in range(n)],\n",
    "        \"y\": [i * 0.0001 for i in range(n)],\n",
    "        \"id\": [random.randint(0, 15) for _ in range(n)],\n",
    "        \"value\": ['a' for _ in range(n)],\n",
    "    }\n",
    "    return pd.DataFrame(data)\n"
   ]
  },
  {
   "cell_type": "markdown",
   "metadata": {},
   "source": [
    "## Basic Trajectory Creation"
   ]
  },
  {
   "cell_type": "code",
   "execution_count": null,
   "metadata": {},
   "outputs": [],
   "source": [
    "\n",
    "def benchmark():\n",
    "    sizes = [100_000, 1_000_000, 5_000_000, 10_000_000]\n",
    "\n",
    "    for n in sizes:\n",
    "        df = make_test_df(n)\n",
    "        print(f\"\\n--- {n/1_000_000} million points ---\")\n",
    "\n",
    "        start = time.time()\n",
    "        tc = mpd.TrajectoryCollection(df, traj_id_col=\"id\", t=\"t\", x=\"x\", y=\"y\")\n",
    "        runtime = time.time() - start\n",
    "        print(tc)\n",
    "        print(f\"Trajectory init:  {runtime:.6f}s\")\n",
    "\n",
    "benchmark()\n",
    "\n"
   ]
  },
  {
   "cell_type": "markdown",
   "metadata": {},
   "source": [
    "### Value Change Splitter"
   ]
  },
  {
   "cell_type": "code",
   "execution_count": null,
   "metadata": {},
   "outputs": [],
   "source": [
    "\n",
    "def benchmark():\n",
    "    sizes = [10_000, 100_000, 500_000]\n",
    "\n",
    "    for n in sizes:\n",
    "        df = make_test_df(n)\n",
    "        print(f\"\\n--- {n/1_000_000} million points ---\")\n",
    "\n",
    "        start = time.time()        \n",
    "        tc = mpd.TrajectoryCollection(df, traj_id_col=\"id\", t=\"t\", x=\"x\", y=\"y\")\n",
    "        tc = mpd.ValueChangeSplitter(tc).split(col_name='value')\n",
    "        runtime = time.time() - start\n",
    "        print(tc)\n",
    "        print(f\"Trajectory init + ValueChangeSplitter:  {runtime:.6f}s\")\n",
    "\n",
    "benchmark()\n",
    "\n"
   ]
  },
  {
   "cell_type": "markdown",
   "metadata": {},
   "source": [
    "### with parallel processing"
   ]
  },
  {
   "cell_type": "code",
   "execution_count": null,
   "metadata": {},
   "outputs": [],
   "source": [
    "def benchmark():\n",
    "    sizes = [10_000, 100_000, 500_000]\n",
    "\n",
    "    for n in sizes:\n",
    "        df = make_test_df(n)\n",
    "        print(f\"\\n--- {n/1_000_000} million points ---\")\n",
    "\n",
    "        start = time.time()        \n",
    "        tc = mpd.TrajectoryCollection(df, traj_id_col=\"id\", t=\"t\", x=\"x\", y=\"y\", min_length=1000)\n",
    "        tc = mpd.ValueChangeSplitter(tc).split(col_name='value', n_processes=1)\n",
    "        runtime = time.time() - start\n",
    "        print(tc)\n",
    "        print(f\"Trajectory init + ValueChangeSplitter:  {runtime:.6f}s\")\n",
    "\n",
    "benchmark()\n"
   ]
  },
  {
   "cell_type": "markdown",
   "metadata": {},
   "source": [
    "## Plot"
   ]
  },
  {
   "cell_type": "code",
   "execution_count": null,
   "metadata": {},
   "outputs": [],
   "source": [
    "import matplotlib.pyplot as plt\n",
    "import pandas as pd\n",
    "\n",
    "# Benchmark data for the 0.5 column\n",
    "data = {\n",
    "    \"Traj init\": [\n",
    "        \n",
    "        \"Lazy Init\", \"Lazy Init\", \"Lazy Init\", \"Lazy Init\", \"Lazy Init\", \"Lazy Init\",\n",
    "        \"Lazy Init\", \"Lazy Init\", \"Lazy Init\",\n",
    "        \"Original Init\", \"Original Init\", \"Original Init\", \"Original Init\"\n",
    "    ],\n",
    "    \"Splitter\": [\n",
    "       \n",
    "        \"No min_length\", \"min_length=1,000\", \"min_length=1,000, early skip\",\n",
    "        \"min_length=100,000\", \"min_length=100,000, early skip\",\n",
    "        \"min_length=10,000,000\", \"min_length=10,000,000, early skip\",\n",
    "        \"min_length=10,000,000\", \"No min_length, parallel\", \n",
    "        \"No min_length\", \"min_length=1,000\", \"min_length=100,000\", \"min_length=10,000,000\"\n",
    "    ],\n",
    "    \"Runtime (s)\": [\n",
    "       \n",
    "        44.912145, 86.674723, 41.281583,\n",
    "        90.314423, 45.494739,\n",
    "        51.147402, 71.029866,\n",
    "        51.147402, 12.295473,\n",
    "        97.446402, 95.853996, 99.708181, 44.724029\n",
    "    ]\n",
    "}\n",
    "\n",
    "df = pd.DataFrame(data)\n",
    "\n",
    "# Label for each bar\n",
    "df[\"Label\"] = df[\"Traj init\"] + \" - \" + df[\"Splitter\"]\n",
    "\n",
    "# Categorize by color group\n",
    "def categorize(row):\n",
    "    if row[\"Traj init\"] == \"Original Init\":\n",
    "        return \"Original Init\"\n",
    "    elif \"early skip\" in row[\"Splitter\"]:\n",
    "        return \"Lazy Init with Early Skip\"\n",
    "    else:\n",
    "        return \"Lazy Init\"\n",
    "\n",
    "df[\"Category\"] = df.apply(categorize, axis=1)\n",
    "\n",
    "# Color mapping\n",
    "color_map = {\n",
    "    \"Original Init\": \"#1f77b4\",        # blue\n",
    "    \"Lazy Init\": \"#dd1111\",            \n",
    "    \"Lazy Init with Early Skip\": \"#ff7f0e\"  # orange\n",
    "}\n",
    "colors = df[\"Category\"].map(color_map)\n",
    "\n",
    "\n",
    "# Sort by Runtime in descending order\n",
    "sorted_df = df.sort_values(by=\"Runtime (s)\", ascending=False)\n",
    "\n",
    "# Update colors based on new dataframe\n",
    "sorted_colors = sorted_df[\"Category\"].map(color_map)\n",
    "\n",
    "# Plotting\n",
    "plt.figure(figsize=(10, 5))\n",
    "bars = plt.barh(sorted_df[\"Label\"], sorted_df[\"Runtime (s)\"], color=sorted_colors)\n",
    "plt.xlabel(\"Runtime (seconds)\")\n",
    "plt.title(\"Benchmark Runtimes for 500k Points\")\n",
    "plt.gca().invert_yaxis()\n",
    "plt.tight_layout()\n",
    "plt.show()\n"
   ]
  },
  {
   "cell_type": "code",
   "execution_count": null,
   "metadata": {},
   "outputs": [],
   "source": []
  }
 ],
 "metadata": {
  "kernelspec": {
   "display_name": "movingpandas",
   "language": "python",
   "name": "python3"
  },
  "language_info": {
   "codemirror_mode": {
    "name": "ipython",
    "version": 3
   },
   "file_extension": ".py",
   "mimetype": "text/x-python",
   "name": "python",
   "nbconvert_exporter": "python",
   "pygments_lexer": "ipython3",
   "version": "3.10.16"
  }
 },
 "nbformat": 4,
 "nbformat_minor": 4
}
