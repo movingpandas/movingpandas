{
 "cells": [
  {
   "attachments": {},
   "cell_type": "markdown",
   "metadata": {},
   "source": [
    "# Working with local coordinates \n",
    "\n",
    "<img align=\"right\" src=\"https://movingpandas.github.io/movingpandas/assets/img/movingpandas.png\">\n",
    "\n",
    "[![Binder](https://mybinder.org/badge_logo.svg)](https://mybinder.org/v2/gh/movingpandas/movingpandas/main?filepath=tutorials/5-local-coordinates.ipynb)\n",
    "\n",
    "**<p style=\"color:#e31883\">This notebook demonstrates the current development version of MovingPandas.</p>**\n",
    "\n",
    "For tutorials using the latest release visit https://github.com/movingpandas/movingpandas-examples.\n",
    "\n",
    "\n",
    "\n",
    "This tutorial uses data extracted from video footage of a soccer game that was published in https://github.com/Friends-of-Tracking-Data-FoTD/Last-Row\n"
   ]
  },
  {
   "cell_type": "code",
   "execution_count": null,
   "metadata": {},
   "outputs": [],
   "source": [
    "import urllib\n",
    "import os\n",
    "import pandas as pd\n",
    "import geopandas as gpd\n",
    "from geopandas import GeoDataFrame, read_file\n",
    "from shapely.geometry import Point, LineString, Polygon\n",
    "from datetime import datetime, timedelta\n",
    "from matplotlib import pyplot as plt\n",
    "import holoviews as hv\n",
    "\n",
    "import sys\n",
    "\n",
    "sys.path.append(\"..\")\n",
    "import movingpandas as mpd\n",
    "\n",
    "mpd.show_versions()\n",
    "\n",
    "import warnings\n",
    "\n",
    "warnings.simplefilter(\"ignore\")"
   ]
  },
  {
   "cell_type": "code",
   "execution_count": null,
   "metadata": {},
   "outputs": [],
   "source": [
    "from os.path import exists\n",
    "from urllib.request import urlretrieve\n",
    "\n",
    "\n",
    "def get_df_from_gh_url(url):\n",
    "    file = f\"soccer.csv\"\n",
    "    if not exists(file):\n",
    "        urlretrieve(url, file)\n",
    "    return pd.read_csv(file)"
   ]
  },
  {
   "cell_type": "code",
   "execution_count": null,
   "metadata": {},
   "outputs": [],
   "source": [
    "input_file = \"https://raw.githubusercontent.com/anitagraser/Last-Row/master/datasets/positional_data/liverpool_2019.csv\"\n",
    "df = get_df_from_gh_url(input_file)\n",
    "df.drop(columns=[\"Unnamed: 0\"], inplace=True)"
   ]
  },
  {
   "cell_type": "code",
   "execution_count": null,
   "metadata": {},
   "outputs": [],
   "source": [
    "plays = list(df.play.unique())\n",
    "\n",
    "\n",
    "def to_timestamp(row):\n",
    "    # plays to date\n",
    "    day = plays.index(row.play) + 1\n",
    "    start_time = datetime(2019, 1, day, 12, 0, 0)\n",
    "    # frames to time\n",
    "    td = timedelta(milliseconds=1000 / 20 * row.frame)\n",
    "    return start_time + td\n",
    "\n",
    "\n",
    "# frame: the frame number for the current location. Data provided has 20 frames per second\n",
    "df[\"time\"] = df.apply(to_timestamp, axis=1)\n",
    "df.set_index(\"time\", inplace=True)\n",
    "\n",
    "# the preferred size for many professional teams' stadiums is 105 by 68 metres, according to https://en.wikipedia.org/wiki/Football_pitch\n",
    "pitch_length = 105\n",
    "pitch_width = 68\n",
    "df.x = df.x / 100 * pitch_length\n",
    "df.y = df.y / 100 * pitch_width\n",
    "\n",
    "df"
   ]
  },
  {
   "cell_type": "code",
   "execution_count": null,
   "metadata": {},
   "outputs": [],
   "source": [
    "%%time\n",
    "CRS = None\n",
    "# df['player'] = df['team']+df['player'].astype(str)\n",
    "tc = mpd.TrajectoryCollection(df, \"player\", x=\"x\", y=\"y\", crs=CRS)\n",
    "mpd.TemporalSplitter(tc).split(mode=\"day\")\n",
    "print(f\"Finished creating {len(tc)} trajectories\")"
   ]
  },
  {
   "cell_type": "code",
   "execution_count": null,
   "metadata": {},
   "outputs": [],
   "source": [
    "from hvplot import pandas\n",
    "\n",
    "pitch = Polygon(\n",
    "    [(0, 0), (0, pitch_width), (pitch_length, pitch_width), (pitch_length, 0), (0, 0)]\n",
    ")\n",
    "plotted_pitch = GeoDataFrame(\n",
    "    pd.DataFrame([{\"geometry\": pitch, \"id\": 1}]), crs=CRS\n",
    ").hvplot(color=\"white\", alpha=0.5)"
   ]
  },
  {
   "cell_type": "code",
   "execution_count": null,
   "metadata": {},
   "outputs": [],
   "source": [
    "PLAY = 2\n",
    "title = f\"Play {PLAY} {plays[PLAY]}\"\n",
    "play_trajs = tc.filter(\"play\", plays[PLAY])\n",
    "play_trajs"
   ]
  },
  {
   "cell_type": "code",
   "execution_count": null,
   "metadata": {},
   "outputs": [],
   "source": [
    "play_trajs.plot(column=\"team\", colormap={\"attack\": \"hotpink\", \"defense\": \"turquoise\"})"
   ]
  },
  {
   "cell_type": "code",
   "execution_count": null,
   "metadata": {},
   "outputs": [],
   "source": [
    "type(play_trajs)"
   ]
  },
  {
   "cell_type": "code",
   "execution_count": null,
   "metadata": {},
   "outputs": [],
   "source": [
    "generalized = mpd.MinTimeDeltaGeneralizer(play_trajs).generalize(\n",
    "    tolerance=timedelta(seconds=0.5)\n",
    ")"
   ]
  },
  {
   "cell_type": "code",
   "execution_count": null,
   "metadata": {},
   "outputs": [],
   "source": [
    "hvplot_defaults = {\n",
    "    \"line_width\": 5,\n",
    "    \"frame_height\": 350,\n",
    "    \"frame_width\": 500,\n",
    "    \"colorbar\": True,\n",
    "    \"tiles\": None,\n",
    "    \"geo\": False,\n",
    "}\n",
    "generalized.hvplot(\n",
    "    title=title,\n",
    "    c=\"speed\",\n",
    "    hover_cols=[\"speed\", \"player\"],\n",
    "    cmap=\"Plasma\",\n",
    "    **hvplot_defaults\n",
    ")"
   ]
  },
  {
   "cell_type": "code",
   "execution_count": null,
   "metadata": {},
   "outputs": [],
   "source": [
    "(\n",
    "    plotted_pitch\n",
    "    * generalized.hvplot(title=title, hover_cols=[\"player\"], **hvplot_defaults)\n",
    ")"
   ]
  },
  {
   "cell_type": "code",
   "execution_count": null,
   "metadata": {},
   "outputs": [],
   "source": [
    "(\n",
    "    plotted_pitch\n",
    "    * generalized.hvplot(title=title, c=\"team\", hover_cols=[\"team\"], **hvplot_defaults)\n",
    ")"
   ]
  },
  {
   "cell_type": "code",
   "execution_count": null,
   "metadata": {},
   "outputs": [],
   "source": [
    "pitch_img = hv.RGB.load_image(\n",
    "    f\"./data/soccer_field.png\", bounds=(0, 0, pitch_length, pitch_width)\n",
    ")\n",
    "(\n",
    "    pitch_img\n",
    "    * generalized.hvplot(\n",
    "        title=title,\n",
    "        c=\"team\",\n",
    "        colormap={\"attack\": \"limegreen\", \"defense\": \"purple\"},\n",
    "        hover_cols=[\"player\"],\n",
    "        **hvplot_defaults,\n",
    "    )\n",
    "    * generalized.get_start_locations().hvplot(label=\"start\", color=\"orange\")\n",
    ")"
   ]
  },
  {
   "attachments": {},
   "cell_type": "markdown",
   "metadata": {},
   "source": [
    "## Continue exploring MovingPandas\n",
    "\n",
    "1. [Getting started](1-getting-started.ipynb)\n",
    "1. [Handling trajectory data files (reading & writing)](2-reading-data-from-files.ipynb)\n",
    "1. [TrajectoryCollection aggregation (flow maps)](3-generalization-and-aggregation.ipynb)\n",
    "1. [Stop detection](4-stop-detection.ipynb)\n",
    "1. [Working with local coordinates](5-local-coordinates.ipynb)\n",
    "1. [Computing trajectory metrics](6-trajectory-metrics.ipynb)\n",
    "1. [Multithreading](7-multithreading.ipynb)\n",
    "1. [OGC Moving Features](8-ogc-moving-features.ipynb)"
   ]
  }
 ],
 "metadata": {
  "kernelspec": {
   "display_name": "movingpandas-dev",
   "language": "python",
   "name": "python3"
  },
  "language_info": {
   "codemirror_mode": {
    "name": "ipython",
    "version": 3
   },
   "file_extension": ".py",
   "mimetype": "text/x-python",
   "name": "python",
   "nbconvert_exporter": "python",
   "pygments_lexer": "ipython3",
   "version": "3.10.15"
  }
 },
 "nbformat": 4,
 "nbformat_minor": 4
}
