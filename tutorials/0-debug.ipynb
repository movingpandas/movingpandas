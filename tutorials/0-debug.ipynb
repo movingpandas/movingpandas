{
 "cells": [
  {
   "attachments": {},
   "cell_type": "markdown",
   "metadata": {},
   "source": [
    "# Debugging\n",
    "\n",
    "<img align=\"right\" src=\"https://movingpandas.github.io/movingpandas/assets/img/movingpandas.png\">\n",
    "\n",
    "[![Binder](https://mybinder.org/badge_logo.svg)](https://mybinder.org/v2/gh/movingpandas/movingpandas/main?filepath=tutorials/0-debug.ipynb)\n",
    "\n",
    "Minimal working examples of bugs\n",
    "\n",
    "**<p style=\"color:#e31883\">This notebook demonstrates the current development version of MovingPandas.</p>**\n",
    "\n",
    "For tutorials using the latest release visit https://github.com/movingpandas/movingpandas-examples.\n"
   ]
  },
  {
   "cell_type": "code",
   "execution_count": 2,
   "metadata": {},
   "outputs": [
    {
     "name": "stdout",
     "output_type": "stream",
     "text": [
      "\n",
      "MovingPandas 0.22.3\n",
      "\n",
      "SYSTEM INFO\n",
      "-----------\n",
      "python     : 3.10.15 | packaged by conda-forge | (main, Oct 16 2024, 01:24:24) [GCC 13.3.0]\n",
      "executable : /home/anita/miniforge3/envs/movingpandas-dev/bin/python\n",
      "machine    : Linux-6.8.0-59-generic-x86_64-with-glibc2.39\n",
      "\n",
      "PROJ INFO\n",
      "-----------\n",
      "PROJ       : 9.5.0\n",
      "PROJ data dir: /home/anita/miniforge3/envs/movingpandas-dev/share/proj\n",
      "\n",
      "PYTHON DEPENDENCIES\n",
      "-------------------\n",
      "numpy      : 2.0.2\n",
      "geopandas  : 1.0.1\n",
      "geopy      : 2.4.1\n",
      "geoviews   : 1.13.0\n",
      "holoviews  : 1.19.1\n",
      "hvplot     : 0.11.1\n",
      "mapclassify: 2.8.1\n",
      "matplotlib : 3.9.2\n",
      "pandas     : 2.2.3\n",
      "pyproj     : 3.7.0\n",
      "shapely    : 2.0.6\n",
      "stonesoup  : 1.4\n"
     ]
    }
   ],
   "source": [
    "import urllib\n",
    "import os\n",
    "import pandas as pd\n",
    "import geopandas as gpd\n",
    "from geopandas import GeoDataFrame, read_file\n",
    "from shapely.geometry import Point, LineString, Polygon\n",
    "from datetime import datetime, timedelta\n",
    "from matplotlib import pyplot as plt\n",
    "\n",
    "import sys\n",
    "\n",
    "sys.path.append(\"..\")\n",
    "import movingpandas as mpd\n",
    "\n",
    "mpd.show_versions()"
   ]
  },
  {
   "attachments": {},
   "cell_type": "markdown",
   "metadata": {},
   "source": [
    "## Creating a trajectory from scratch\n"
   ]
  },
  {
   "cell_type": "code",
   "execution_count": null,
   "metadata": {},
   "outputs": [],
   "source": [
    "df = pd.DataFrame(\n",
    "    [\n",
    "        {\"geometry\": Point(0, 0), \"t\": datetime(2018, 1, 1, 12, 0, 0)},\n",
    "        {\"geometry\": Point(6, 0), \"t\": datetime(2018, 1, 1, 12, 6, 0)},\n",
    "        {\"geometry\": Point(6, 6), \"t\": datetime(2018, 1, 1, 12, 10, 0)},\n",
    "        {\"geometry\": Point(9, 9), \"t\": datetime(2018, 1, 1, 12, 15, 0)},\n",
    "    ]\n",
    ").set_index(\"t\")\n",
    "gdf = GeoDataFrame(df, crs=31256)\n",
    "toy_traj = mpd.Trajectory(gdf, 1)\n",
    "toy_traj.df"
   ]
  },
  {
   "cell_type": "code",
   "execution_count": null,
   "metadata": {},
   "outputs": [],
   "source": [
    "df = pd.DataFrame(\n",
    "    [\n",
    "        {\"geometry\": Point(0, 0), \"t\": datetime(2018, 1, 1, 12, 0, 0)},\n",
    "        {\"geometry\": Point(6, 0), \"t\": datetime(2018, 1, 1, 12, 6, 0)},\n",
    "        {\"geometry\": Point(6, 6), \"t\": datetime(2018, 1, 1, 12, 10, 0)},\n",
    "        {\"geometry\": Point(9, 9), \"t\": datetime(2018, 1, 1, 12, 15, 0)},\n",
    "    ]\n",
    ").set_index(\"t\")\n",
    "gdf = GeoDataFrame(df, crs=31256)\n",
    "df = pd.DataFrame(gdf)\n",
    "df['x']=gdf.geometry.x\n",
    "df['y']=gdf.geometry.y\n",
    "df = df.drop(columns='geometry')\n",
    "toy_traj = mpd.Trajectory(df, 1, x=\"x\", y=\"y\")\n",
    "toy_traj.df"
   ]
  },
  {
   "cell_type": "code",
   "execution_count": null,
   "metadata": {},
   "outputs": [],
   "source": [
    "toy_traj.hvplot()"
   ]
  },
  {
   "cell_type": "code",
   "execution_count": null,
   "metadata": {},
   "outputs": [],
   "source": [
    "toy_traj.add_speed(overwrite=True).df"
   ]
  },
  {
   "cell_type": "code",
   "execution_count": null,
   "metadata": {},
   "outputs": [],
   "source": [
    "xmin, xmax, ymin, ymax = 2, 8, -10, 5\n",
    "polygon = Polygon(\n",
    "    [(xmin, ymin), (xmin, ymax), (xmax, ymax), (xmax, ymin), (xmin, ymin)]\n",
    ")\n",
    "polygon_gdf = GeoDataFrame(pd.DataFrame([{\"geometry\": polygon, \"id\": 1}]), crs=4326)"
   ]
  },
  {
   "cell_type": "code",
   "execution_count": null,
   "metadata": {},
   "outputs": [],
   "source": [
    "intersections = toy_traj.clip(polygon)\n",
    "intersections"
   ]
  },
  {
   "cell_type": "code",
   "execution_count": null,
   "metadata": {},
   "outputs": [],
   "source": [
    "intersections = toy_traj.clip(polygon)\n",
    "intersections"
   ]
  },
  {
   "cell_type": "code",
   "execution_count": null,
   "metadata": {},
   "outputs": [],
   "source": [
    "ax = toy_traj.plot()\n",
    "polygon_gdf.plot(ax=ax, color=\"lightgray\")\n",
    "intersections.plot(ax=ax, color=\"red\", linewidth=5)"
   ]
  },
  {
   "cell_type": "code",
   "execution_count": null,
   "metadata": {},
   "outputs": [],
   "source": [
    "toy_traj.add_speed(overwrite=True)\n",
    "toy_traj.df.plot()"
   ]
  },
  {
   "cell_type": "code",
   "execution_count": null,
   "metadata": {},
   "outputs": [],
   "source": [
    "toy_traj.plot(width=7)"
   ]
  },
  {
   "cell_type": "code",
   "execution_count": null,
   "metadata": {},
   "outputs": [],
   "source": [
    "toy_traj.plot(column=\"speed\", linewidth=5)"
   ]
  },
  {
   "cell_type": "code",
   "execution_count": null,
   "metadata": {},
   "outputs": [],
   "source": [
    "toy_traj.explore()"
   ]
  },
  {
   "cell_type": "code",
   "execution_count": null,
   "metadata": {},
   "outputs": [],
   "source": [
    "hv_defaults = {\"frame_width\": 400, \"frame_height\": 300}\n",
    "toy_traj.hvplot(line_width=5, **hv_defaults)"
   ]
  },
  {
   "cell_type": "code",
   "execution_count": null,
   "metadata": {},
   "outputs": [],
   "source": [
    "toy_traj.hvplot(c=\"speed\", line_width=7, **hv_defaults)"
   ]
  },
  {
   "cell_type": "code",
   "execution_count": null,
   "metadata": {},
   "outputs": [],
   "source": [
    "toy_traj.hvplot_pts(c=\"speed\", line_width=7, **hv_defaults)"
   ]
  },
  {
   "cell_type": "code",
   "execution_count": null,
   "metadata": {},
   "outputs": [],
   "source": [
    "gdf = read_file(\"data/demodata_geolife.gpkg\")\n",
    "tc = mpd.TrajectoryCollection(gdf, \"trajectory_id\", t=\"t\")\n",
    "generalized = mpd.MinDistanceGeneralizer(tc).generalize(tolerance=100)"
   ]
  },
  {
   "cell_type": "code",
   "execution_count": null,
   "metadata": {},
   "outputs": [],
   "source": [
    "generalized.plot()"
   ]
  },
  {
   "cell_type": "code",
   "execution_count": null,
   "metadata": {},
   "outputs": [],
   "source": [
    "generalized.explore(\n",
    "    column=\"trajectory_id\", tiles=\"CartoDB positron\", style_kwds={\"weight\": 5}\n",
    ")"
   ]
  },
  {
   "cell_type": "code",
   "execution_count": null,
   "metadata": {},
   "outputs": [],
   "source": [
    "generalized.add_speed(overwrite=True).explore(\n",
    "    column=\"speed\", vmax=20, tiles=\"CartoDB positron\", style_kwds={\"weight\": 5}\n",
    ")"
   ]
  },
  {
   "cell_type": "code",
   "execution_count": null,
   "metadata": {},
   "outputs": [],
   "source": [
    "generalized.hvplot(tiles=\"CartoLight\", **hv_defaults)"
   ]
  },
  {
   "cell_type": "code",
   "execution_count": null,
   "metadata": {},
   "outputs": [],
   "source": [
    "generalized.hvplot(\n",
    "    tiles=None, c=\"speed\", clim=(0, 20), line_width=2, marker_size=0, **hv_defaults\n",
    ")"
   ]
  },
  {
   "cell_type": "code",
   "execution_count": null,
   "metadata": {},
   "outputs": [],
   "source": [
    "feature = {\n",
    "    \"geometry\": {\n",
    "        \"type\": \"Polygon\",\n",
    "        \"coordinates\": [[(116, 39), (116.5, 39), (116.5, 40), (116, 40), (116, 39)]],\n",
    "    },\n",
    "    \"properties\": {\"id\": 1, \"name\": \"foo\"},\n",
    "}"
   ]
  },
  {
   "cell_type": "code",
   "execution_count": null,
   "metadata": {},
   "outputs": [],
   "source": [
    "intersections = generalized.intersection(feature)\n",
    "intersections.hvplot(\n",
    "    tiles=None, c=\"speed\", clim=(0, 20), line_width=2, marker_size=0, **hv_defaults\n",
    ")"
   ]
  },
  {
   "cell_type": "code",
   "execution_count": null,
   "metadata": {},
   "outputs": [],
   "source": [
    "# intersections.add_speed()\n",
    "intersections.hvplot_pts(tiles=None, c=\"speed\", clim=(0, 20), **hv_defaults)"
   ]
  },
  {
   "cell_type": "code",
   "execution_count": null,
   "metadata": {},
   "outputs": [],
   "source": [
    "intersections.hvplot_pts(tiles=None, **hv_defaults)"
   ]
  },
  {
   "cell_type": "code",
   "execution_count": null,
   "metadata": {},
   "outputs": [],
   "source": [
    "generalized.add_speed(overwrite=True).explore(\n",
    "    column=\"speed\", vmax=20, tiles=\"CartoDB dark_matter\", style_kwds={\"weight\": 5}\n",
    ")"
   ]
  },
  {
   "cell_type": "code",
   "execution_count": 16,
   "metadata": {},
   "outputs": [
    {
     "name": "stderr",
     "output_type": "stream",
     "text": [
      "/home/anita/Documents/Github/movingpandas/tutorials/../movingpandas/trajectory.py:186: MissingCRSWarning: Trajectory generated without CRS. Computations will use Euclidean distances.\n",
      "  warnings.warn(\n"
     ]
    },
    {
     "data": {
      "text/plain": [
       "TrajectoryCollection with 1 trajectories"
      ]
     },
     "execution_count": 16,
     "metadata": {},
     "output_type": "execute_result"
    }
   ],
   "source": [
    "\n",
    "\n",
    "data = {'t': {0: '2025-04-02 11:08:11.666928', 1: '2025-04-02 11:08:12.666928', 2: '2025-04-02 11:08:13.666928'}, \n",
    "        'x': {0: 10.0, 1: 10.01, 2: 10.021}, 'y': {0: 10.0, 1: 10.0, 2: 10.0}, \n",
    "        'AgentID': {0: 19, 1: 19, 2: 19}, 'wkt': {0: 'POINT (10 10)', 1: 'POINT (10.01 10)', 2: 'POINT (10.020999999999999 10)'}}\n",
    "\n",
    "gdf = gpd.GeoDataFrame(data, crs=None)\n",
    "gdf.set_geometry(gpd.GeoSeries.from_wkt(gdf['wkt']), inplace=True)\n",
    "mpd.TrajectoryCollection(gdf, traj_id_col='AgentID', obj_id_col='AgentID', t='t')\n",
    "\n",
    "\n"
   ]
  },
  {
   "cell_type": "code",
   "execution_count": null,
   "metadata": {},
   "outputs": [],
   "source": []
  }
 ],
 "metadata": {
  "kernelspec": {
   "display_name": "movingpandas-dev",
   "language": "python",
   "name": "python3"
  },
  "language_info": {
   "codemirror_mode": {
    "name": "ipython",
    "version": 3
   },
   "file_extension": ".py",
   "mimetype": "text/x-python",
   "name": "python",
   "nbconvert_exporter": "python",
   "pygments_lexer": "ipython3",
   "version": "3.10.15"
  }
 },
 "nbformat": 4,
 "nbformat_minor": 4
}
