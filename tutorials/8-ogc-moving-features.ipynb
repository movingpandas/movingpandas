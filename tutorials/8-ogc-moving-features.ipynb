{
 "cells": [
  {
   "cell_type": "markdown",
   "metadata": {},
   "source": [
    "# OGC Moving Features\n",
    "\n",
    "\n",
    "\n",
    "<img align=\"right\" src=\"https://raw.githubusercontent.com/opengeospatial/mf-json/master/logo.png\" width=\"200px\" />\n",
    "\n",
    "\n",
    "\n",
    "Ressources:\n",
    "\n",
    "- OGC Moving Features Standard Working Group https://github.com/opengeospatial/mf-swg\n",
    "- [Moving Features JSON Encoding](https://docs.ogc.org/is/19-045r3/19-045r3.html) | [Samples in Github](https://github.com/opengeospatial/mf-json)\n",
    "\n",
    "\n",
    "\n",
    "<img align=\"right\" src=\"https://movingpandas.github.io/movingpandas/assets/img/movingpandas.png\" width=\"200px\" />\n",
    "\n",
    "**<p style=\"color:#e31883\">This notebook demonstrates the current development version of MovingPandas.</p>**\n",
    "\n",
    "For tutorials using the latest release visit https://github.com/movingpandas/movingpandas-examples."
   ]
  },
  {
   "cell_type": "code",
   "execution_count": null,
   "metadata": {},
   "outputs": [],
   "source": [
    "import sys\n",
    "sys.path.append(\"..\")\n",
    "import movingpandas as mpd"
   ]
  },
  {
   "cell_type": "markdown",
   "metadata": {},
   "source": [
    "## MF-JSON MovingPoint\n",
    "\n",
    "https://github.com/opengeospatial/mf-json/tree/master/json-sample/movingpoint"
   ]
  },
  {
   "cell_type": "code",
   "execution_count": null,
   "metadata": {},
   "outputs": [],
   "source": [
    "traj = mpd.read_mf_json('data/movingfeatures.json')\n",
    "traj.df"
   ]
  },
  {
   "cell_type": "code",
   "execution_count": null,
   "metadata": {},
   "outputs": [],
   "source": [
    "traj.explore()"
   ]
  },
  {
   "cell_type": "markdown",
   "metadata": {},
   "source": [
    "## MF-JSON Trajectory\n",
    "\n",
    "https://docs.ogc.org/is/19-045r3/19-045r3.html#_mf_json_trajectory_encoding\n",
    "\n",
    "https://github.com/opengeospatial/mf-json/tree/master/json-sample/trajectory"
   ]
  },
  {
   "cell_type": "code",
   "execution_count": null,
   "metadata": {},
   "outputs": [],
   "source": [
    "traj = mpd.read_mf_json('data/mf-trajectory.json', traj_id=5)\n",
    "traj.df"
   ]
  },
  {
   "cell_type": "code",
   "execution_count": null,
   "metadata": {},
   "outputs": [],
   "source": [
    "traj.explore()"
   ]
  },
  {
   "cell_type": "code",
   "execution_count": null,
   "metadata": {},
   "outputs": [],
   "source": []
  }
 ],
 "metadata": {
  "kernelspec": {
   "display_name": "movingpandas",
   "language": "python",
   "name": "python3"
  },
  "language_info": {
   "codemirror_mode": {
    "name": "ipython",
    "version": 3
   },
   "file_extension": ".py",
   "mimetype": "text/x-python",
   "name": "python",
   "nbconvert_exporter": "python",
   "pygments_lexer": "ipython3",
   "version": "3.10.14"
  }
 },
 "nbformat": 4,
 "nbformat_minor": 2
}
