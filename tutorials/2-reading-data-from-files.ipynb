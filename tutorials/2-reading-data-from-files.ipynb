{
 "cells": [
  {
   "attachments": {},
   "cell_type": "markdown",
   "id": "9175fbe4",
   "metadata": {},
   "source": [
    "# Handling trajectory data files (reading & writing)\n",
    "\n",
    "<img align=\"right\" src=\"https://movingpandas.github.io/movingpandas/assets/img/movingpandas.png\">\n",
    "\n",
    "[![Binder](https://mybinder.org/badge_logo.svg)](https://mybinder.org/v2/gh/movingpandas/movingpandas/main?filepath=tutorials/2-reading-data-from-files.ipynb)\n",
    "\n",
    "**<p style=\"color:#e31883\">This notebook demonstrates the current development version of MovingPandas.</p>**\n",
    "\n",
    "For tutorials using the latest release visit https://github.com/movingpandas/movingpandas-examples.\n"
   ]
  },
  {
   "cell_type": "code",
   "execution_count": null,
   "id": "12edc7bb",
   "metadata": {},
   "outputs": [],
   "source": [
    "import pandas as pd\n",
    "from geopandas import GeoDataFrame, read_file\n",
    "\n",
    "import sys\n",
    "sys.path.append(\"..\")\n",
    "import movingpandas as mpd\n",
    "mpd.show_versions()\n",
    "\n",
    "import warnings\n",
    "warnings.simplefilter(\"ignore\")"
   ]
  },
  {
   "cell_type": "code",
   "execution_count": null,
   "id": "4db26b0b-f236-45ec-81fb-62cd92a2f2fb",
   "metadata": {},
   "outputs": [],
   "source": [
    "hvplot_defaults = {'tiles':'CartoLight', 'frame_height':400, 'frame_width':700, 'cmap':'Viridis', 'colorbar':True}"
   ]
  },
  {
   "attachments": {},
   "cell_type": "markdown",
   "id": "57746585",
   "metadata": {},
   "source": [
    "## Reading Geopackages"
   ]
  },
  {
   "attachments": {},
   "cell_type": "markdown",
   "id": "7580e951",
   "metadata": {},
   "source": [
    "### with DatetimeIndex"
   ]
  },
  {
   "cell_type": "code",
   "execution_count": null,
   "id": "97da2889",
   "metadata": {},
   "outputs": [],
   "source": [
    "%%time\n",
    "gdf = read_file('data/demodata_geolife.gpkg')\n",
    "gdf['t'] = pd.to_datetime(gdf['t'])\n",
    "gdf = gdf.set_index('t')\n",
    "traj_collection = mpd.TrajectoryCollection(gdf, 'trajectory_id')\n",
    "print(traj_collection)"
   ]
  },
  {
   "attachments": {},
   "cell_type": "markdown",
   "id": "c59b6252",
   "metadata": {},
   "source": [
    "### without DatetimeIndex"
   ]
  },
  {
   "cell_type": "code",
   "execution_count": null,
   "id": "a914c897",
   "metadata": {},
   "outputs": [],
   "source": [
    "%%time\n",
    "gdf = read_file('data/demodata_geolife.gpkg')\n",
    "traj_collection = mpd.TrajectoryCollection(gdf, 'trajectory_id', t='t')\n",
    "print(traj_collection)"
   ]
  },
  {
   "cell_type": "code",
   "execution_count": null,
   "id": "389b5195",
   "metadata": {},
   "outputs": [],
   "source": [
    "%%time\n",
    "gdf = read_file('data/demodata_ais.gpkg')\n",
    "gdf['t'] = pd.to_datetime(gdf['Timestamp'], format='%d/%m/%Y %H:%M:%S')\n",
    "gdf = gdf[gdf.SOG>0]\n",
    "traj_collection = mpd.TrajectoryCollection(gdf, 'MMSI', min_length=100, t='t')\n",
    "print(traj_collection)"
   ]
  },
  {
   "attachments": {},
   "cell_type": "markdown",
   "id": "d7abb551-38df-45de-b601-5a793f07766f",
   "metadata": {},
   "source": [
    "Note that any MovingPandas treats all times as local times - if you need to use a different time zone, you will have to convert your data before creating trajectories or trajectory collections."
   ]
  },
  {
   "attachments": {},
   "cell_type": "markdown",
   "id": "8a4ed663",
   "metadata": {},
   "source": [
    "## Reading CSVs"
   ]
  },
  {
   "cell_type": "code",
   "execution_count": null,
   "id": "6bb565db",
   "metadata": {},
   "outputs": [],
   "source": [
    "%%time \n",
    "df = pd.read_csv('data/demodata_geolife.csv', delimiter=';')\n",
    "traj_collection = mpd.TrajectoryCollection(df, 'trajectory_id', t='t', x='X', y='Y')\n",
    "traj_collection.hvplot(title=str(traj_collection), line_width=5, **hvplot_defaults)"
   ]
  },
  {
   "attachments": {},
   "cell_type": "markdown",
   "id": "eb563703-7f8e-417c-8e4f-ec2aa17ac4e1",
   "metadata": {},
   "source": [
    "## Reading GPX files"
   ]
  },
  {
   "cell_type": "code",
   "execution_count": null,
   "id": "8505f911-95b2-4ffc-a080-95670ffd7eec",
   "metadata": {
    "tags": []
   },
   "outputs": [],
   "source": [
    "%%time\n",
    "gdf = read_file('data/304 to UL 2019-02-18 0745.gpx', layer='track_points').set_index('time')\n",
    "gdf.drop(columns=['track_fid', 'track_seg_id', 'ele', 'magvar', 'geoidheight', 'name', 'cmt', 'desc', 'src', \n",
    "                  'link1_href', 'link1_text', 'link1_type', 'link2_href', 'link2_text', 'link2_type', 'sym', \n",
    "                  'type', 'fix', 'sat', 'hdop', 'vdop', 'pdop', 'ageofdgpsdata', 'dgpsid'], inplace=True) \n",
    "traj = mpd.Trajectory(gdf, \"2019-02-18 0745\", obj_id=\"304\")\n",
    "traj.add_distance().add_speed(name=\"speed (kph)\", units=(\"km\", \"h\"))"
   ]
  },
  {
   "cell_type": "code",
   "execution_count": null,
   "id": "ea2ed02f-a53a-44ef-b1ac-3188ef00821a",
   "metadata": {
    "tags": []
   },
   "outputs": [],
   "source": [
    "traj.df"
   ]
  },
  {
   "cell_type": "code",
   "execution_count": null,
   "id": "5f5ba02a-d82e-4c56-a0ad-d59fe2f27539",
   "metadata": {
    "tags": []
   },
   "outputs": [],
   "source": [
    "traj.plot()"
   ]
  },
  {
   "cell_type": "code",
   "execution_count": null,
   "id": "cfa7beb7-7bc2-4f69-9f58-18f0b286909b",
   "metadata": {
    "tags": []
   },
   "outputs": [],
   "source": [
    "traj.hvplot(\n",
    "    c='speed (kph)', \n",
    "    clim=(0,60), \n",
    "    line_width=7.0, \n",
    "    title=\"Bus {} departing {}\".format(traj.obj_id, traj.id),\n",
    "    xlabel=\"Longitude\",\n",
    "    ylabel=\"Latitude\",\n",
    "    clabel='Speed (km/h)', \n",
    "    tiles='CartoLight', \n",
    "    cmap='RdYlGn', \n",
    "    colorbar=True\n",
    ") * read_file(\"data/stops_304_to_ul.gpkg\").hvplot(geo=True, size=140, marker=\"+\", color='blue')"
   ]
  },
  {
   "attachments": {},
   "cell_type": "markdown",
   "id": "eeeadeb1-0f5c-4037-98e0-4f61fda45573",
   "metadata": {},
   "source": [
    "## Reading MovingFeatures JSONs"
   ]
  },
  {
   "cell_type": "code",
   "execution_count": null,
   "id": "f22bda81-b411-4647-aea6-9da5756a7bb1",
   "metadata": {},
   "outputs": [],
   "source": [
    "%%time \n",
    "file_name = 'data/movingfeatures.json'\n",
    "traj = mpd.read_mf_json(file_name)\n",
    "traj"
   ]
  },
  {
   "cell_type": "code",
   "execution_count": null,
   "id": "845d54a5-6889-4e49-89fa-1481205fd1f3",
   "metadata": {},
   "outputs": [],
   "source": [
    "traj.plot()"
   ]
  },
  {
   "cell_type": "code",
   "execution_count": null,
   "id": "4842452d-7343-4f75-b1fb-a6741bf7b6d4",
   "metadata": {},
   "outputs": [],
   "source": [
    "traj.hvplot(title='Wind measure along trajectory', c='wind', line_width=5, **hvplot_defaults)"
   ]
  },
  {
   "attachments": {},
   "cell_type": "markdown",
   "id": "peaceful-nomination",
   "metadata": {},
   "source": [
    "## Writing\n",
    "\n",
    "### as points"
   ]
  },
  {
   "cell_type": "code",
   "execution_count": null,
   "id": "lesbian-picking",
   "metadata": {},
   "outputs": [],
   "source": [
    "point_gdf = traj_collection.to_point_gdf()\n",
    "point_gdf.head()"
   ]
  },
  {
   "cell_type": "code",
   "execution_count": null,
   "id": "subtle-whole",
   "metadata": {},
   "outputs": [],
   "source": [
    "point_gdf.to_file(\"temp.gpkg\", layer='points', driver=\"GPKG\")\n",
    "read_file('temp.gpkg', layer='points').plot()"
   ]
  },
  {
   "attachments": {},
   "cell_type": "markdown",
   "id": "animated-worcester",
   "metadata": {},
   "source": [
    "### as lines"
   ]
  },
  {
   "cell_type": "code",
   "execution_count": null,
   "id": "skilled-christianity",
   "metadata": {},
   "outputs": [],
   "source": [
    "line_gdf = traj_collection.to_line_gdf()\n",
    "line_gdf.head()"
   ]
  },
  {
   "cell_type": "code",
   "execution_count": null,
   "id": "sharing-birthday",
   "metadata": {},
   "outputs": [],
   "source": [
    "line_gdf.to_file(\"temp.gpkg\", layer='lines', driver=\"GPKG\")\n",
    "read_file('temp.gpkg', layer='lines').plot()"
   ]
  },
  {
   "attachments": {},
   "cell_type": "markdown",
   "id": "french-director",
   "metadata": {},
   "source": [
    "### as trajectories"
   ]
  },
  {
   "cell_type": "code",
   "execution_count": null,
   "id": "wrong-bulgarian",
   "metadata": {},
   "outputs": [],
   "source": [
    "traj_gdf = traj_collection.to_traj_gdf(wkt=True)\n",
    "traj_gdf"
   ]
  },
  {
   "cell_type": "code",
   "execution_count": null,
   "id": "connected-trunk",
   "metadata": {},
   "outputs": [],
   "source": [
    "traj_gdf.to_file(\"temp.gpkg\", layer='trajectories', driver=\"GPKG\")\n",
    "read_file('temp.gpkg', layer='trajectories').plot()"
   ]
  },
  {
   "attachments": {},
   "cell_type": "markdown",
   "id": "46dc3ec2",
   "metadata": {},
   "source": [
    "## Error messages while reading\n",
    "\n",
    "The following errors are expected:"
   ]
  },
  {
   "attachments": {},
   "cell_type": "markdown",
   "id": "8ad4c056",
   "metadata": {},
   "source": [
    "### Missing datetime info"
   ]
  },
  {
   "cell_type": "code",
   "execution_count": null,
   "id": "86f273e1",
   "metadata": {},
   "outputs": [],
   "source": [
    "gdf = read_file('data/demodata_geolife.gpkg')\n",
    "\n",
    "try: \n",
    "    mpd.TrajectoryCollection(gdf, 'trajectory_id')\n",
    "except TypeError as e:\n",
    "    print(f\"TypeError: {e}\")"
   ]
  },
  {
   "attachments": {},
   "cell_type": "markdown",
   "id": "0d5a9867",
   "metadata": {},
   "source": [
    "### Missing geometry info"
   ]
  },
  {
   "cell_type": "code",
   "execution_count": null,
   "id": "c60cf633",
   "metadata": {},
   "outputs": [],
   "source": [
    "df = pd.read_csv('data/demodata_geolife.csv', delimiter=';')\n",
    "\n",
    "try:\n",
    "    mpd.TrajectoryCollection(df, 'trajectory_id', t='t')\n",
    "except ValueError as e:\n",
    "    print(f\"ValueError: {e}\")"
   ]
  },
  {
   "attachments": {},
   "cell_type": "markdown",
   "id": "6b343aa7",
   "metadata": {},
   "source": [
    "## Continue exploring MovingPandas\n",
    "\n",
    "1. [Getting started](1-getting-started.ipynb)\n",
    "1. [Handling trajectory data files (reading & writing)](2-reading-data-from-files.ipynb)\n",
    "1. [TrajectoryCollection aggregation (flow maps)](3-generalization-and-aggregation.ipynb)\n",
    "1. [Stop detection](4-stop-detection.ipynb)\n",
    "1. [Working with local coordinates](5-local-coordinates.ipynb)\n",
    "1. [Computing trajectory metrics](6-trajectory-metrics.ipynb)\n",
    "1. [Multithreading](7-multithreading.ipynb)"
   ]
  }
 ],
 "metadata": {
  "kernelspec": {
   "display_name": "Python 3 (ipykernel)",
   "language": "python",
   "name": "python3"
  },
  "language_info": {
   "codemirror_mode": {
    "name": "ipython",
    "version": 3
   },
   "file_extension": ".py",
   "mimetype": "text/x-python",
   "name": "python",
   "nbconvert_exporter": "python",
   "pygments_lexer": "ipython3",
   "version": "3.10.14"
  },
  "vscode": {
   "interpreter": {
    "hash": "e083ffb052fc3090335b68330fa2108e4b62c90ad12f6dc729a484d53ff96ca7"
   }
  }
 },
 "nbformat": 4,
 "nbformat_minor": 5
}
